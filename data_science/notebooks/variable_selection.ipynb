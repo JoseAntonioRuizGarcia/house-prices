{
 "cells": [
  {
   "cell_type": "code",
   "execution_count": 1,
   "metadata": {},
   "outputs": [],
   "source": [
    "import os\n",
    "import sys\n",
    "root = os.getcwd().split(\"data_science\")[0]\n",
    "sys.path.append(root)\n",
    "\n",
    "from data_science.constants import *\n",
    "from data_science.constants import Path\n",
    "from data_science.constants import TypeCols\n",
    "from data_science.utils.functions import castTypeCols, calculateVif, calculateVariance, selectKbest, stepWise, lassoRegression\n",
    "import pandas as pd\n",
    "from matplotlib import pyplot as plt"
   ]
  },
  {
   "cell_type": "markdown",
   "metadata": {},
   "source": [
    "## Preparación de datos"
   ]
  },
  {
   "cell_type": "code",
   "execution_count": 11,
   "metadata": {},
   "outputs": [],
   "source": [
    "# Carga de datos\n",
    "data = pd.read_csv(root + Path.PATH.value + 'train_clean.csv')\n",
    "data = castTypeCols(data)\n",
    "\n",
    "# Target\n",
    "target = data[\"SalePrice\"]\n",
    "data.drop(['SalePrice', 'Id'], axis=1, inplace=True)\n",
    "\n",
    "# Dummies variables categóricas\n",
    "data = pd.get_dummies(data=data, columns=TypeCols.CATEGORICAL.value)\n",
    "\n",
    "# Selección de variables numéricas\n",
    "cols_to_select = TypeCols.CONTINUOS.value + TypeCols.DISCRETE.value\n",
    "df = data.loc[:, cols_to_select]"
   ]
  },
  {
   "cell_type": "markdown",
   "metadata": {},
   "source": [
    "## Selección de Características"
   ]
  },
  {
   "cell_type": "markdown",
   "metadata": {},
   "source": [
    "### Método VIF"
   ]
  },
  {
   "cell_type": "code",
   "execution_count": 12,
   "metadata": {},
   "outputs": [],
   "source": [
    "# Variables eliminadas por el método VIF\n",
    "cols_drop = [\n",
    "    '2ndFlrSF', 'BsmtFinSF2', 'TotalBsmtSF', 'GrLivArea', 'GarageCars'\n",
    "]\n",
    "df_vif = df.drop(columns=cols_drop)"
   ]
  },
  {
   "cell_type": "code",
   "execution_count": 13,
   "metadata": {},
   "outputs": [
    {
     "name": "stderr",
     "output_type": "stream",
     "text": [
      "c:\\Users\\josea\\Desktop\\PROJECTS\\house-prices\\data_science\\utils\\functions.py:85: FutureWarning: Downcasting object dtype arrays on .fillna, .ffill, .bfill is deprecated and will change in a future version. Call result.infer_objects(copy=False) instead. To opt-in to the future behavior, set `pd.set_option('future.no_silent_downcasting', True)`\n",
      "  result.fillna(0, inplace=True)\n"
     ]
    },
    {
     "data": {
      "text/html": [
       "<div>\n",
       "<style scoped>\n",
       "    .dataframe tbody tr th:only-of-type {\n",
       "        vertical-align: middle;\n",
       "    }\n",
       "\n",
       "    .dataframe tbody tr th {\n",
       "        vertical-align: top;\n",
       "    }\n",
       "\n",
       "    .dataframe thead th {\n",
       "        text-align: right;\n",
       "    }\n",
       "</style>\n",
       "<table border=\"1\" class=\"dataframe\">\n",
       "  <thead>\n",
       "    <tr style=\"text-align: right;\">\n",
       "      <th></th>\n",
       "      <th>VIF</th>\n",
       "    </tr>\n",
       "  </thead>\n",
       "  <tbody>\n",
       "    <tr>\n",
       "      <th>LotFrontage</th>\n",
       "      <td>1.885116</td>\n",
       "    </tr>\n",
       "    <tr>\n",
       "      <th>LotArea</th>\n",
       "      <td>1.557269</td>\n",
       "    </tr>\n",
       "    <tr>\n",
       "      <th>MasVnrArea</th>\n",
       "      <td>1.357880</td>\n",
       "    </tr>\n",
       "    <tr>\n",
       "      <th>BsmtFinSF1</th>\n",
       "      <td>3.811792</td>\n",
       "    </tr>\n",
       "    <tr>\n",
       "      <th>BsmtUnfSF</th>\n",
       "      <td>2.961204</td>\n",
       "    </tr>\n",
       "    <tr>\n",
       "      <th>1stFlrSF</th>\n",
       "      <td>3.548968</td>\n",
       "    </tr>\n",
       "    <tr>\n",
       "      <th>LowQualFinSF</th>\n",
       "      <td>1.103291</td>\n",
       "    </tr>\n",
       "    <tr>\n",
       "      <th>GarageArea</th>\n",
       "      <td>2.052857</td>\n",
       "    </tr>\n",
       "    <tr>\n",
       "      <th>WoodDeckSF</th>\n",
       "      <td>1.202567</td>\n",
       "    </tr>\n",
       "    <tr>\n",
       "      <th>OpenPorchSF</th>\n",
       "      <td>1.191052</td>\n",
       "    </tr>\n",
       "    <tr>\n",
       "      <th>EnclosedPorch</th>\n",
       "      <td>1.244332</td>\n",
       "    </tr>\n",
       "    <tr>\n",
       "      <th>3SsnPorch</th>\n",
       "      <td>1.022249</td>\n",
       "    </tr>\n",
       "    <tr>\n",
       "      <th>ScreenPorch</th>\n",
       "      <td>1.101079</td>\n",
       "    </tr>\n",
       "    <tr>\n",
       "      <th>PoolArea</th>\n",
       "      <td>1.072642</td>\n",
       "    </tr>\n",
       "    <tr>\n",
       "      <th>MiscVal</th>\n",
       "      <td>1.015648</td>\n",
       "    </tr>\n",
       "    <tr>\n",
       "      <th>YearBuilt</th>\n",
       "      <td>4.630231</td>\n",
       "    </tr>\n",
       "    <tr>\n",
       "      <th>YearRemodAdd</th>\n",
       "      <td>1.909635</td>\n",
       "    </tr>\n",
       "    <tr>\n",
       "      <th>BsmtFullBath</th>\n",
       "      <td>2.080395</td>\n",
       "    </tr>\n",
       "    <tr>\n",
       "      <th>BsmtHalfBath</th>\n",
       "      <td>1.126657</td>\n",
       "    </tr>\n",
       "    <tr>\n",
       "      <th>FullBath</th>\n",
       "      <td>2.345680</td>\n",
       "    </tr>\n",
       "    <tr>\n",
       "      <th>HalfBath</th>\n",
       "      <td>1.648608</td>\n",
       "    </tr>\n",
       "    <tr>\n",
       "      <th>BedroomAbvGr</th>\n",
       "      <td>2.206008</td>\n",
       "    </tr>\n",
       "    <tr>\n",
       "      <th>KitchenAbvGr</th>\n",
       "      <td>1.295126</td>\n",
       "    </tr>\n",
       "    <tr>\n",
       "      <th>TotRmsAbvGrd</th>\n",
       "      <td>3.624213</td>\n",
       "    </tr>\n",
       "    <tr>\n",
       "      <th>Fireplaces</th>\n",
       "      <td>1.507325</td>\n",
       "    </tr>\n",
       "    <tr>\n",
       "      <th>GarageYrBlt</th>\n",
       "      <td>4.553422</td>\n",
       "    </tr>\n",
       "    <tr>\n",
       "      <th>MoSold</th>\n",
       "      <td>1.041755</td>\n",
       "    </tr>\n",
       "    <tr>\n",
       "      <th>YrSold</th>\n",
       "      <td>1.047607</td>\n",
       "    </tr>\n",
       "  </tbody>\n",
       "</table>\n",
       "</div>"
      ],
      "text/plain": [
       "                    VIF\n",
       "LotFrontage    1.885116\n",
       "LotArea        1.557269\n",
       "MasVnrArea     1.357880\n",
       "BsmtFinSF1     3.811792\n",
       "BsmtUnfSF      2.961204\n",
       "1stFlrSF       3.548968\n",
       "LowQualFinSF   1.103291\n",
       "GarageArea     2.052857\n",
       "WoodDeckSF     1.202567\n",
       "OpenPorchSF    1.191052\n",
       "EnclosedPorch  1.244332\n",
       "3SsnPorch      1.022249\n",
       "ScreenPorch    1.101079\n",
       "PoolArea       1.072642\n",
       "MiscVal        1.015648\n",
       "YearBuilt      4.630231\n",
       "YearRemodAdd   1.909635\n",
       "BsmtFullBath   2.080395\n",
       "BsmtHalfBath   1.126657\n",
       "FullBath       2.345680\n",
       "HalfBath       1.648608\n",
       "BedroomAbvGr   2.206008\n",
       "KitchenAbvGr   1.295126\n",
       "TotRmsAbvGrd   3.624213\n",
       "Fireplaces     1.507325\n",
       "GarageYrBlt    4.553422\n",
       "MoSold         1.041755\n",
       "YrSold         1.047607"
      ]
     },
     "execution_count": 13,
     "metadata": {},
     "output_type": "execute_result"
    }
   ],
   "source": [
    "calculateVif(data=df_vif).T"
   ]
  },
  {
   "cell_type": "code",
   "execution_count": 14,
   "metadata": {},
   "outputs": [
    {
     "data": {
      "text/plain": [
       "<matplotlib.collections.PathCollection at 0x1815c547c50>"
      ]
     },
     "execution_count": 14,
     "metadata": {},
     "output_type": "execute_result"
    },
    {
     "data": {
      "image/png": "[encoded data removed]",
      "text/plain": [
       "<Figure size 640x480 with 1 Axes>"
      ]
     },
     "metadata": {},
     "output_type": "display_data"
    }
   ],
   "source": [
    "'''\n",
    "    Colinealidad YearBuilt vs GarageYrBlt\n",
    "    Parece que, aunque hay colinealidad, puede ser ambas características buenas predictoras\n",
    "    En una fase inicial, decido conservar ambas variables\n",
    "'''\n",
    "tmp = df_vif.loc[:, ['YearBuilt', 'GarageYrBlt']]\n",
    "plt.scatter(tmp.YearBuilt, tmp.GarageYrBlt)"
   ]
  },
  {
   "cell_type": "markdown",
   "metadata": {},
   "source": [
    "### Baja Varianza de datos"
   ]
  },
  {
   "cell_type": "code",
   "execution_count": 15,
   "metadata": {},
   "outputs": [
    {
     "name": "stdout",
     "output_type": "stream",
     "text": [
      "28 Variables originales:\n",
      "26 Variables tras la selección:\n",
      "Variables eliminadas: ['BsmtHalfBath', 'KitchenAbvGr']\n"
     ]
    }
   ],
   "source": [
    "df_var = calculateVariance(data=df_vif, threshold_value=0.20)"
   ]
  },
  {
   "cell_type": "code",
   "execution_count": 16,
   "metadata": {},
   "outputs": [],
   "source": [
    "'''\n",
    "    No se elimina ninguna de las características, ya que tiene sentido su baja variabilidad. Y puede que su\n",
    "    eliminación afecte al correcto funcionamiento del modelo.\n",
    "''';"
   ]
  },
  {
   "cell_type": "markdown",
   "metadata": {},
   "source": [
    "### Método KBest"
   ]
  },
  {
   "cell_type": "code",
   "execution_count": 17,
   "metadata": {},
   "outputs": [
    {
     "name": "stdout",
     "output_type": "stream",
     "text": [
      "33 Variables originales:\n",
      "28 Variables tras la selección:\n",
      "Variables eliminadas: ['YearRemodAdd', 'FullBath', 'BedroomAbvGr', 'KitchenAbvGr', 'YrSold']\n"
     ]
    }
   ],
   "source": [
    "df_kbest = selectKbest(data=df, target=target, k_value=28)"
   ]
  },
  {
   "cell_type": "code",
   "execution_count": 18,
   "metadata": {},
   "outputs": [
    {
     "name": "stdout",
     "output_type": "stream",
     "text": [
      "28 Variables originales:\n",
      "27 Variables tras la selección:\n",
      "Variables eliminadas: ['BsmtHalfBath']\n"
     ]
    }
   ],
   "source": [
    "df_var = calculateVariance(data=df_kbest, threshold_value=0.20)"
   ]
  },
  {
   "cell_type": "markdown",
   "metadata": {},
   "source": [
    "### Stepwise"
   ]
  },
  {
   "cell_type": "code",
   "execution_count": 19,
   "metadata": {},
   "outputs": [
    {
     "data": {
      "image/png": "[encoded data removed]",
      "text/plain": [
       "<Figure size 640x480 with 1 Axes>"
      ]
     },
     "metadata": {},
     "output_type": "display_data"
    }
   ],
   "source": [
    "df_stepwise = stepWise(data=df, target=target)"
   ]
  },
  {
   "cell_type": "markdown",
   "metadata": {},
   "source": [
    "### Método Lasso"
   ]
  },
  {
   "cell_type": "code",
   "execution_count": 20,
   "metadata": {},
   "outputs": [
    {
     "name": "stdout",
     "output_type": "stream",
     "text": [
      "-39.922\n",
      "0.367\n",
      "37.889\n",
      "21.615\n",
      "8.063\n",
      "14.62\n",
      "8.902\n",
      "49.877\n",
      "49.574\n",
      "20.82\n",
      "5.923\n",
      "6.784\n",
      "24.953\n",
      "5.024\n",
      "28.697\n",
      "27.663\n",
      "64.726\n",
      "-40.984\n",
      "0.014\n",
      "385.267\n",
      "475.941\n",
      "7407.044\n",
      "732.032\n",
      "4955.076\n",
      "-3391.074\n",
      "-11619.172\n",
      "-39616.087\n",
      "7156.217\n",
      "7318.344\n",
      "-46.347\n",
      "14002.379\n",
      "322.162\n",
      "-332.51\n"
     ]
    }
   ],
   "source": [
    "tmp = lassoRegression(data=df, target=target, alpha=0.2)"
   ]
  }
 ],
 "metadata": {
  "kernelspec": {
   "display_name": "venv",
   "language": "python",
   "name": "python3"
  },
  "language_info": {
   "codemirror_mode": {
    "name": "ipython",
    "version": 3
   },
   "file_extension": ".py",
   "mimetype": "text/x-python",
   "name": "python",
   "nbconvert_exporter": "python",
   "pygments_lexer": "ipython3",
   "version": "3.11.4"
  }
 },
 "nbformat": 4,
 "nbformat_minor": 2
}
